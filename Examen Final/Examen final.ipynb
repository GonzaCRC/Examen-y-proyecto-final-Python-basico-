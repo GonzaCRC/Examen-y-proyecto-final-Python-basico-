{
 "cells": [
  {
   "cell_type": "code",
   "execution_count": 1,
   "metadata": {},
   "outputs": [
    {
     "data": {
      "text/plain": [
       "['a', 'z', 'ef', 'zc', 'def']"
      ]
     },
     "execution_count": 1,
     "metadata": {},
     "output_type": "execute_result"
    }
   ],
   "source": [
    "def sort_list(list):    \n",
    "    return sorted(sorted(list), key=len)\n",
    "    \n",
    "list_ = ['a', 'zc', 'def', 'z', 'ef']\n",
    "sort_list(list_)"
   ]
  },
  {
   "cell_type": "code",
   "execution_count": 2,
   "metadata": {},
   "outputs": [
    {
     "data": {
      "text/plain": [
       "['fitzxm', 'cqnmac', 'dnfdra', 'tjfbdx', 'jianfm']"
      ]
     },
     "execution_count": 2,
     "metadata": {},
     "output_type": "execute_result"
    }
   ],
   "source": [
    "import random\n",
    "\n",
    "\n",
    "abecedary = 'abcdefghijklmnopqrstuvwxyz'\n",
    "letters = list(abecedary)\n",
    "\n",
    "def generate_m_chars(m):\n",
    "    last_char = None\n",
    "    char_list = []\n",
    "    letters_length = len(letters) - 1\n",
    "        \n",
    "    for char in range(m):\n",
    "        current_char = letters[random.randint(0, letters_length)]\n",
    "\n",
    "        if last_char:\n",
    "\n",
    "            while current_char == last_char:\n",
    "                current_char = letters[random.randint(0, letters_length)]\n",
    "\n",
    "        last_char = current_char\n",
    "        \n",
    "        yield current_char\n",
    "\n",
    "def words_list(n, m):\n",
    "    return [''.join(generate_m_chars(m)) for words in range(n)] \n",
    "\n",
    "words_list(5, 6)"
   ]
  },
  {
   "cell_type": "code",
   "execution_count": 3,
   "metadata": {},
   "outputs": [
    {
     "name": "stdout",
     "output_type": "stream",
     "text": [
      "La pendiente es 0.6785714285714286, y la interseccion 1.892857142857143\n"
     ]
    },
    {
     "data": {
      "text/html": [
       "<div>\n",
       "<style scoped>\n",
       "    .dataframe tbody tr th:only-of-type {\n",
       "        vertical-align: middle;\n",
       "    }\n",
       "\n",
       "    .dataframe tbody tr th {\n",
       "        vertical-align: top;\n",
       "    }\n",
       "\n",
       "    .dataframe thead th {\n",
       "        text-align: right;\n",
       "    }\n",
       "</style>\n",
       "<table border=\"1\" class=\"dataframe\">\n",
       "  <thead>\n",
       "    <tr style=\"text-align: right;\">\n",
       "      <th></th>\n",
       "      <th>x</th>\n",
       "      <th>y</th>\n",
       "    </tr>\n",
       "  </thead>\n",
       "  <tbody>\n",
       "    <tr>\n",
       "      <th>0</th>\n",
       "      <td>-2</td>\n",
       "      <td>1.0</td>\n",
       "    </tr>\n",
       "    <tr>\n",
       "      <th>1</th>\n",
       "      <td>0</td>\n",
       "      <td>0.5</td>\n",
       "    </tr>\n",
       "    <tr>\n",
       "      <th>2</th>\n",
       "      <td>1</td>\n",
       "      <td>3.5</td>\n",
       "    </tr>\n",
       "  </tbody>\n",
       "</table>\n",
       "</div>"
      ],
      "text/plain": [
       "   x    y\n",
       "0 -2  1.0\n",
       "1  0  0.5\n",
       "2  1  3.5"
      ]
     },
     "execution_count": 3,
     "metadata": {},
     "output_type": "execute_result"
    }
   ],
   "source": [
    "import pandas as pd\n",
    "\n",
    "\n",
    "def get_pendant_and_intersection(data_frame):\n",
    "    n = data_frame.shape[0]\n",
    "    x_summatory = sum(data_frame.x)\n",
    "    x2_summatory = sum(data_frame.x ** 2)\n",
    "    y_summatory = sum(data_frame.y)\n",
    "    x_y_summatory = sum([x * y for x, y in zip(data_frame.x, data_frame.y)])\n",
    "    \n",
    "    pendant = (n * x_y_summatory - (x_summatory) * (y_summatory)) / (n * x2_summatory - (x_summatory) ** 2)\n",
    "    intersection = ((y_summatory) -  pendant * (x_summatory)) / (n)\n",
    "    \n",
    "    return (pendant, intersection)\n",
    "\n",
    "points_list = [[-2, 1], [0, 0.5], [1, 3.5]]\n",
    "\n",
    "data_frame = pd.DataFrame(points_list, columns=['x', 'y'])\n",
    "data_tuple = get_pendant_and_intersection(data_frame)\n",
    "\n",
    "print(f'La pendiente es {data_tuple[0]}, y la interseccion {data_tuple[1]}')\n",
    "data_frame"
   ]
  }
 ],
 "metadata": {
  "kernelspec": {
   "display_name": "Python 3",
   "language": "python",
   "name": "python3"
  },
  "language_info": {
   "codemirror_mode": {
    "name": "ipython",
    "version": 3
   },
   "file_extension": ".py",
   "mimetype": "text/x-python",
   "name": "python",
   "nbconvert_exporter": "python",
   "pygments_lexer": "ipython3",
   "version": "3.6.5"
  }
 },
 "nbformat": 4,
 "nbformat_minor": 2
}
